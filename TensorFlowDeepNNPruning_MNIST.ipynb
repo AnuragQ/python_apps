{
  "nbformat": 4,
  "nbformat_minor": 0,
  "metadata": {
    "colab": {
      "name": "TensorFlowDeepNNPruning_MNIST.ipynb",
      "version": "0.3.2",
      "provenance": [],
      "collapsed_sections": [],
      "include_colab_link": true
    },
    "kernelspec": {
      "name": "python3",
      "display_name": "Python 3"
    }
  },
  "cells": [
    {
      "cell_type": "markdown",
      "metadata": {
        "id": "view-in-github",
        "colab_type": "text"
      },
      "source": [
        "<a href=\"https://colab.research.google.com/github/AnuragQ/python_apps/blob/master/TensorFlowDeepNNPruning_MNIST.ipynb\" target=\"_parent\"><img src=\"https://colab.research.google.com/assets/colab-badge.svg\" alt=\"Open In Colab\"/></a>"
      ]
    },
    {
      "metadata": {
        "id": "24ZQqCg8vEor",
        "colab_type": "code",
        "colab": {}
      },
      "cell_type": "code",
      "source": [
        "import tensorflow as tf\n",
        "import matplotlib.pyplot as plt\n",
        "from tensorflow.examples.tutorials.mnist import input_data\n",
        "import numpy as np"
      ],
      "execution_count": 0,
      "outputs": []
    },
    {
      "metadata": {
        "id": "o-UdIUAF51SO",
        "colab_type": "code",
        "outputId": "8098ddeb-7b63-4377-c9fa-f54f48ed9f81",
        "colab": {
          "base_uri": "https://localhost:8080/",
          "height": 541
        }
      },
      "cell_type": "code",
      "source": [
        "mnist = input_data.read_data_sets(\"data\", one_hot=True)"
      ],
      "execution_count": 0,
      "outputs": [
        {
          "output_type": "stream",
          "text": [
            "WARNING:tensorflow:From <ipython-input-2-4c6156a96338>:1: read_data_sets (from tensorflow.contrib.learn.python.learn.datasets.mnist) is deprecated and will be removed in a future version.\n",
            "Instructions for updating:\n",
            "Please use alternatives such as official/mnist/dataset.py from tensorflow/models.\n",
            "WARNING:tensorflow:From /usr/local/lib/python3.6/dist-packages/tensorflow/contrib/learn/python/learn/datasets/mnist.py:260: maybe_download (from tensorflow.contrib.learn.python.learn.datasets.base) is deprecated and will be removed in a future version.\n",
            "Instructions for updating:\n",
            "Please write your own downloading logic.\n",
            "WARNING:tensorflow:From /usr/local/lib/python3.6/dist-packages/tensorflow/contrib/learn/python/learn/datasets/base.py:252: _internal_retry.<locals>.wrap.<locals>.wrapped_fn (from tensorflow.contrib.learn.python.learn.datasets.base) is deprecated and will be removed in a future version.\n",
            "Instructions for updating:\n",
            "Please use urllib or similar directly.\n",
            "Successfully downloaded train-images-idx3-ubyte.gz 9912422 bytes.\n",
            "WARNING:tensorflow:From /usr/local/lib/python3.6/dist-packages/tensorflow/contrib/learn/python/learn/datasets/mnist.py:262: extract_images (from tensorflow.contrib.learn.python.learn.datasets.mnist) is deprecated and will be removed in a future version.\n",
            "Instructions for updating:\n",
            "Please use tf.data to implement this functionality.\n",
            "Extracting data/train-images-idx3-ubyte.gz\n",
            "Successfully downloaded train-labels-idx1-ubyte.gz 28881 bytes.\n",
            "WARNING:tensorflow:From /usr/local/lib/python3.6/dist-packages/tensorflow/contrib/learn/python/learn/datasets/mnist.py:267: extract_labels (from tensorflow.contrib.learn.python.learn.datasets.mnist) is deprecated and will be removed in a future version.\n",
            "Instructions for updating:\n",
            "Please use tf.data to implement this functionality.\n",
            "Extracting data/train-labels-idx1-ubyte.gz\n",
            "WARNING:tensorflow:From /usr/local/lib/python3.6/dist-packages/tensorflow/contrib/learn/python/learn/datasets/mnist.py:110: dense_to_one_hot (from tensorflow.contrib.learn.python.learn.datasets.mnist) is deprecated and will be removed in a future version.\n",
            "Instructions for updating:\n",
            "Please use tf.one_hot on tensors.\n",
            "Successfully downloaded t10k-images-idx3-ubyte.gz 1648877 bytes.\n",
            "Extracting data/t10k-images-idx3-ubyte.gz\n",
            "Successfully downloaded t10k-labels-idx1-ubyte.gz 4542 bytes.\n",
            "Extracting data/t10k-labels-idx1-ubyte.gz\n",
            "WARNING:tensorflow:From /usr/local/lib/python3.6/dist-packages/tensorflow/contrib/learn/python/learn/datasets/mnist.py:290: DataSet.__init__ (from tensorflow.contrib.learn.python.learn.datasets.mnist) is deprecated and will be removed in a future version.\n",
            "Instructions for updating:\n",
            "Please use alternatives such as official/mnist/dataset.py from tensorflow/models.\n"
          ],
          "name": "stdout"
        }
      ]
    },
    {
      "metadata": {
        "id": "5SmtsPKt6LZ1",
        "colab_type": "code",
        "colab": {}
      },
      "cell_type": "code",
      "source": [
        "nodes_layer_1=1000\n",
        "nodes_layer_2=1000\n",
        "nodes_layer_3=500\n",
        "nodes_layer_4=200\n",
        "\n",
        "nodes_classes=10\n",
        "\n",
        "batch_size=100"
      ],
      "execution_count": 0,
      "outputs": []
    },
    {
      "metadata": {
        "id": "WWAQAipXc_Ww",
        "colab_type": "code",
        "colab": {}
      },
      "cell_type": "code",
      "source": [
        "x=tf.placeholder('float',[None,784])\n",
        "y=tf.placeholder('float')"
      ],
      "execution_count": 0,
      "outputs": []
    },
    {
      "metadata": {
        "id": "b2BqEkUqdJph",
        "colab_type": "code",
        "colab": {}
      },
      "cell_type": "code",
      "source": [
        "def neural_network_model(data):\n",
        "    hidden_1_layer = {'weights' : tf.Variable(tf.random_normal([784,nodes_layer_1])),\n",
        "                      'biases' : tf.Variable(tf.random_normal([nodes_layer_1]))}\n",
        "    hidden_2_layer = {'weights' : tf.Variable(tf.random_normal([nodes_layer_1,nodes_layer_2])),\n",
        "                      'biases' : tf.Variable(tf.random_normal([nodes_layer_2]))}\n",
        "    hidden_3_layer = {'weights' : tf.Variable(tf.random_normal([nodes_layer_2,nodes_layer_3])),\n",
        "                      'biases' : tf.Variable(tf.random_normal([nodes_layer_3]))}\n",
        "    hidden_4_layer = {'weights' : tf.Variable(tf.random_normal([nodes_layer_3,nodes_layer_4])),\n",
        "                      'biases' : tf.Variable(tf.random_normal([nodes_layer_4]))}\n",
        "    output_layer = {'weights' : tf.Variable(tf.random_normal([nodes_layer_4,nodes_classes])),\n",
        "                      'biases' : tf.Variable(tf.random_normal([nodes_classes]))}\n",
        "    \n",
        "    l1=tf.add(tf.matmul(data, hidden_1_layer['weights']),hidden_1_layer['biases'])\n",
        "    l1=tf.nn.relu(l1)\n",
        "    \n",
        "    l2=tf.add(tf.matmul(l1, hidden_2_layer['weights']),hidden_2_layer['biases'])\n",
        "    l2=tf.nn.relu(l2)\n",
        "    \n",
        "    l3=tf.add(tf.matmul(l2, hidden_3_layer['weights']),hidden_3_layer['biases'])\n",
        "    l3=tf.nn.relu(l3)\n",
        "    \n",
        "    l4=tf.add(tf.matmul(l3, hidden_4_layer['weights']),hidden_4_layer['biases'])\n",
        "    l4=tf.nn.relu(l4)\n",
        "    \n",
        "    output=tf.add(tf.matmul(l4, output_layer['weights']),output_layer['biases'])\n",
        "    \n",
        "    return output"
      ],
      "execution_count": 0,
      "outputs": []
    },
    {
      "metadata": {
        "id": "7D7EPL3uhTju",
        "colab_type": "code",
        "outputId": "d29847a9-d4eb-455b-b506-59bb3a2de490",
        "colab": {
          "base_uri": "https://localhost:8080/",
          "height": 489
        }
      },
      "cell_type": "code",
      "source": [
        "prediction = neural_network_model(x)\n",
        "cost = tf.reduce_mean( tf.nn.softmax_cross_entropy_with_logits(logits=prediction,labels=y))\n",
        "optimizer = tf.train.AdamOptimizer().minimize(cost)\n",
        "    \n",
        "n_epochs = 1\n",
        "    \n",
        "with tf.Session() as sess:\n",
        "    sess.run(tf.initialize_all_variables())\n",
        "    for epoch in range(n_epochs):\n",
        "        epoch_loss=0\n",
        "        for _ in range(int(mnist.train.num_examples/batch_size)):\n",
        "            epoch_x,epoch_y = mnist.train.next_batch(batch_size)\n",
        "            _,c = sess.run([optimizer,cost], feed_dict = {x: epoch_x, y: epoch_y})\n",
        "            epoch_loss+=c\n",
        "        print('Epoch', epoch,'completed out of', n_epochs,'  loss:',epoch_loss)\n",
        "        correct = tf.equal(tf.argmax(prediction,1),tf.argmax(y,1))\n",
        "        accuracy = tf.reduce_mean(tf.cast(correct,'float'))\n",
        "        print('Accuracy: ',accuracy.eval({x:mnist.test.images, y:mnist.test.labels}))\n",
        "        tvars = tf.trainable_variables()\n",
        "        tvars_vals = sess.run(tvars)\n",
        "        for var, val in zip(tvars, tvars_vals):\n",
        "            print(var.name,val.shape)  # Prints the name of the variable alongside its value.\n",
        "        \n",
        "\n",
        "  "
      ],
      "execution_count": 0,
      "outputs": [
        {
          "output_type": "stream",
          "text": [
            "WARNING:tensorflow:From /usr/local/lib/python3.6/dist-packages/tensorflow/python/framework/op_def_library.py:263: colocate_with (from tensorflow.python.framework.ops) is deprecated and will be removed in a future version.\n",
            "Instructions for updating:\n",
            "Colocations handled automatically by placer.\n",
            "WARNING:tensorflow:From <ipython-input-6-08aabc210c1e>:2: softmax_cross_entropy_with_logits (from tensorflow.python.ops.nn_ops) is deprecated and will be removed in a future version.\n",
            "Instructions for updating:\n",
            "\n",
            "Future major versions of TensorFlow will allow gradients to flow\n",
            "into the labels input on backprop by default.\n",
            "\n",
            "See `tf.nn.softmax_cross_entropy_with_logits_v2`.\n",
            "\n",
            "WARNING:tensorflow:From /usr/local/lib/python3.6/dist-packages/tensorflow/python/util/tf_should_use.py:193: initialize_all_variables (from tensorflow.python.ops.variables) is deprecated and will be removed after 2017-03-02.\n",
            "Instructions for updating:\n",
            "Use `tf.global_variables_initializer` instead.\n",
            "Epoch 0 completed out of 1   loss: 26706533.067871094\n",
            "Accuracy:  0.9118\n",
            "Variable:0 (784, 1000)\n",
            "Variable_1:0 (1000,)\n",
            "Variable_2:0 (1000, 1000)\n",
            "Variable_3:0 (1000,)\n",
            "Variable_4:0 (1000, 500)\n",
            "Variable_5:0 (500,)\n",
            "Variable_6:0 (500, 200)\n",
            "Variable_7:0 (200,)\n",
            "Variable_8:0 (200, 10)\n",
            "Variable_9:0 (10,)\n"
          ],
          "name": "stdout"
        }
      ]
    },
    {
      "metadata": {
        "id": "bOT6H9AEkYvr",
        "colab_type": "code",
        "colab": {}
      },
      "cell_type": "code",
      "source": [
        "\n",
        "   "
      ],
      "execution_count": 0,
      "outputs": []
    },
    {
      "metadata": {
        "id": "yXS_xblD7LV1",
        "colab_type": "code",
        "colab": {}
      },
      "cell_type": "code",
      "source": [
        ""
      ],
      "execution_count": 0,
      "outputs": []
    },
    {
      "metadata": {
        "id": "tFfundlX7DMU",
        "colab_type": "code",
        "colab": {}
      },
      "cell_type": "code",
      "source": [
        ""
      ],
      "execution_count": 0,
      "outputs": []
    },
    {
      "metadata": {
        "id": "DulS6KcI7X2t",
        "colab_type": "code",
        "colab": {}
      },
      "cell_type": "code",
      "source": [
        ""
      ],
      "execution_count": 0,
      "outputs": []
    },
    {
      "metadata": {
        "id": "6ntlxmdw7Svh",
        "colab_type": "code",
        "colab": {}
      },
      "cell_type": "code",
      "source": [
        ""
      ],
      "execution_count": 0,
      "outputs": []
    },
    {
      "metadata": {
        "id": "qF21Q4XM6862",
        "colab_type": "code",
        "colab": {}
      },
      "cell_type": "code",
      "source": [
        ""
      ],
      "execution_count": 0,
      "outputs": []
    },
    {
      "metadata": {
        "id": "ufgGr12365zy",
        "colab_type": "code",
        "colab": {}
      },
      "cell_type": "code",
      "source": [
        ""
      ],
      "execution_count": 0,
      "outputs": []
    },
    {
      "metadata": {
        "id": "jxtzLdiO6Gr6",
        "colab_type": "code",
        "colab": {}
      },
      "cell_type": "code",
      "source": [
        ""
      ],
      "execution_count": 0,
      "outputs": []
    },
    {
      "metadata": {
        "id": "78xuMkuz55NC",
        "colab_type": "code",
        "colab": {}
      },
      "cell_type": "code",
      "source": [
        ""
      ],
      "execution_count": 0,
      "outputs": []
    }
  ]
}